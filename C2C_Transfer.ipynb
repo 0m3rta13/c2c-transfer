{
  "nbformat": 4,
  "nbformat_minor": 0,
  "metadata": {
    "colab": {
      "name": "C2C Transfer.ipynb",
      "provenance": [],
      "collapsed_sections": []
    },
    "kernelspec": {
      "name": "python3",
      "display_name": "Python 3"
    }
  },
  "cells": [
    {
      "cell_type": "code",
      "metadata": {
        "id": "SwSWEDyM_3pf",
        "colab_type": "code",
        "colab": {}
      },
      "source": [
        "from google.colab import drive\n",
        "drive.mount('/content/drive')"
      ],
      "execution_count": 0,
      "outputs": []
    },
    {
      "cell_type": "code",
      "metadata": {
        "id": "s6mySd-lAiur",
        "colab_type": "code",
        "colab": {}
      },
      "source": [
        "!curl https://rclone.org/install.sh | sudo bash"
      ],
      "execution_count": 0,
      "outputs": []
    },
    {
      "cell_type": "code",
      "metadata": {
        "id": "WNhBjFxk93ov",
        "colab_type": "code",
        "colab": {}
      },
      "source": [
        "!cp '/content/drive/My Drive/Temp/rclone.conf' '/root/.config/rclone/rclone.conf'"
      ],
      "execution_count": 0,
      "outputs": []
    },
    {
      "cell_type": "code",
      "metadata": {
        "id": "nQo659P8A6PC",
        "colab_type": "code",
        "colab": {}
      },
      "source": [
        "!rclone listremotes"
      ],
      "execution_count": 0,
      "outputs": []
    },
    {
      "cell_type": "code",
      "metadata": {
        "id": "yUaBZ1m3A_dU",
        "colab_type": "code",
        "colab": {}
      },
      "source": [
        "!rclone copy gdrive:Shared onedrive:Backup --transfers 32 --checkers 32 --stats=5s --stats-one-line --stats-log-level NOTICE"
      ],
      "execution_count": 0,
      "outputs": []
    }
  ]
}