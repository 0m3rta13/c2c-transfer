{
  "nbformat": 4,
  "nbformat_minor": 0,
  "metadata": {
    "colab": {
      "name": "C2C Transfer.ipynb",
      "provenance": [],
      "collapsed_sections": [],
      "include_colab_link": true
    },
    "kernelspec": {
      "name": "python3",
      "display_name": "Python 3"
    }
  },
  "cells": [
    {
      "cell_type": "markdown",
      "metadata": {
        "id": "view-in-github",
        "colab_type": "text"
      },
      "source": [
        "<a href=\"https://colab.research.google.com/github/gokupistol/c2c-transfer/blob/master/C2C_Transfer.ipynb\" target=\"_parent\"><img src=\"https://colab.research.google.com/assets/colab-badge.svg\" alt=\"Open In Colab\"/></a>"
      ]
    },
    {
      "cell_type": "code",
      "metadata": {
        "id": "V_b5UJR6i-2Q",
        "colab_type": "code",
        "colab": {}
      },
      "source": [
        "#*************************************** README **********************************************\n",
        "# !ipython notebook\n",
        "#\n",
        "# C2C Transfer\n",
        "# [C]loud 2 [C]loud Transfer script for GoogleColab \n",
        "# script by Lawliet_D2C \"Gokup\"--gokupxxxxx@xxx.com--https://github.com/gokupistol\n",
        "# Version: 1.0\n",
        "# Created: 09-24-2019 13:30\n",
        "# Last Modified: 09-25-2019 17:30\n",
        "#\n",
        "#*************************************** NOTES ***********************************************\n",
        "#\n",
        "# To run this you need to have rclone.conf in Google Drive at /content/drive/My Drive/Config/\n",
        "# To install and configure Rclone please visit my github repository.\n",
        "#\n",
        "#**************************************** ***** **********************************************"
      ],
      "execution_count": 0,
      "outputs": []
    },
    {
      "cell_type": "markdown",
      "metadata": {
        "id": "Q3N_96KhkFzq",
        "colab_type": "text"
      },
      "source": [
        "**Mount Google Drive**\n",
        "1.   Run the code and open the link shown in output window.\n",
        "2.   Sign in to your google drive account.\n",
        "3.   Copy and Paste authorization code in white box and press Enter.\n"
      ]
    },
    {
      "cell_type": "code",
      "metadata": {
        "id": "SwSWEDyM_3pf",
        "colab_type": "code",
        "outputId": "d992740d-cc3a-4fe9-cf36-637483a75693",
        "colab": {
          "base_uri": "https://localhost:8080/",
          "height": 122
        }
      },
      "source": [
        "from google.colab import drive\n",
        "drive.mount('/content/drive')"
      ],
      "execution_count": 2,
      "outputs": [
        {
          "output_type": "stream",
          "text": [
            "Go to this URL in a browser: https://accounts.google.com/o/oauth2/auth?client_id=947318989803-6bn6qk8qdgf4n4g3pfee6491hc0brc4i.apps.googleusercontent.com&redirect_uri=urn%3Aietf%3Awg%3Aoauth%3A2.0%3Aoob&scope=email%20https%3A%2F%2Fwww.googleapis.com%2Fauth%2Fdocs.test%20https%3A%2F%2Fwww.googleapis.com%2Fauth%2Fdrive%20https%3A%2F%2Fwww.googleapis.com%2Fauth%2Fdrive.photos.readonly%20https%3A%2F%2Fwww.googleapis.com%2Fauth%2Fpeopleapi.readonly&response_type=code\n",
            "\n",
            "Enter your authorization code:\n",
            "··········\n",
            "Mounted at /content/drive\n"
          ],
          "name": "stdout"
        }
      ]
    },
    {
      "cell_type": "markdown",
      "metadata": {
        "id": "aohyHFO7nBfi",
        "colab_type": "text"
      },
      "source": [
        "**Install Rclone on Runtime Cloud** \n",
        "\n",
        "*   Simply Run following code\n"
      ]
    },
    {
      "cell_type": "code",
      "metadata": {
        "id": "s6mySd-lAiur",
        "colab_type": "code",
        "outputId": "196f61ef-3f93-486e-b9c0-0802957ced6d",
        "colab": {
          "base_uri": "https://localhost:8080/",
          "height": 1000
        }
      },
      "source": [
        "!curl https://rclone.org/install.sh | sudo bash"
      ],
      "execution_count": 3,
      "outputs": [
        {
          "output_type": "stream",
          "text": [
            "  % Total    % Received % Xferd  Average Speed   Time    Time     Time  Current\n",
            "                                 Dload  Upload   Total   Spent    Left  Speed\n",
            "100  4437  100  4437    0     0   8324      0 --:--:-- --:--:-- --:--:--  8324\n",
            "  % Total    % Received % Xferd  Average Speed   Time    Time     Time  Current\n",
            "                                 Dload  Upload   Total   Spent    Left  Speed\n",
            "100    15  100    15    0     0     36      0 --:--:-- --:--:-- --:--:--    36\n",
            "  % Total    % Received % Xferd  Average Speed   Time    Time     Time  Current\n",
            "                                 Dload  Upload   Total   Spent    Left  Speed\n",
            "100 11.0M  100 11.0M    0     0  8705k      0  0:00:01  0:00:01 --:--:-- 8705k\n",
            "Archive:  rclone-current-linux-amd64.zip\n",
            "   creating: tmp_unzip_dir_for_rclone/rclone-v1.49.3-linux-amd64/\n",
            "  inflating: tmp_unzip_dir_for_rclone/rclone-v1.49.3-linux-amd64/rclone.1  [text]  \n",
            "  inflating: tmp_unzip_dir_for_rclone/rclone-v1.49.3-linux-amd64/README.txt  [text]  \n",
            " extracting: tmp_unzip_dir_for_rclone/rclone-v1.49.3-linux-amd64/git-log.txt  [empty] \n",
            "  inflating: tmp_unzip_dir_for_rclone/rclone-v1.49.3-linux-amd64/README.html  [text]  \n",
            "  inflating: tmp_unzip_dir_for_rclone/rclone-v1.49.3-linux-amd64/rclone  [binary]\n",
            "Purging old database entries in /usr/share/man...\n",
            "Processing manual pages under /usr/share/man...\n",
            "Purging old database entries in /usr/share/man/fr...\n",
            "Processing manual pages under /usr/share/man/fr...\n",
            "Purging old database entries in /usr/share/man/cs...\n",
            "Processing manual pages under /usr/share/man/cs...\n",
            "Purging old database entries in /usr/share/man/zh_TW...\n",
            "Processing manual pages under /usr/share/man/zh_TW...\n",
            "Purging old database entries in /usr/share/man/es...\n",
            "Processing manual pages under /usr/share/man/es...\n",
            "Purging old database entries in /usr/share/man/ja...\n",
            "Processing manual pages under /usr/share/man/ja...\n",
            "Purging old database entries in /usr/share/man/fi...\n",
            "Processing manual pages under /usr/share/man/fi...\n",
            "Purging old database entries in /usr/share/man/ru...\n",
            "Processing manual pages under /usr/share/man/ru...\n",
            "Purging old database entries in /usr/share/man/it...\n",
            "Processing manual pages under /usr/share/man/it...\n",
            "Purging old database entries in /usr/share/man/de...\n",
            "Processing manual pages under /usr/share/man/de...\n",
            "Purging old database entries in /usr/share/man/nl...\n",
            "Processing manual pages under /usr/share/man/nl...\n",
            "Purging old database entries in /usr/share/man/zh_CN...\n",
            "Processing manual pages under /usr/share/man/zh_CN...\n",
            "Purging old database entries in /usr/share/man/ko...\n",
            "Processing manual pages under /usr/share/man/ko...\n",
            "Purging old database entries in /usr/share/man/tr...\n",
            "Processing manual pages under /usr/share/man/tr...\n",
            "Purging old database entries in /usr/share/man/id...\n",
            "Processing manual pages under /usr/share/man/id...\n",
            "Purging old database entries in /usr/share/man/pl...\n",
            "Processing manual pages under /usr/share/man/pl...\n",
            "Purging old database entries in /usr/share/man/da...\n",
            "Processing manual pages under /usr/share/man/da...\n",
            "Purging old database entries in /usr/share/man/hu...\n",
            "Processing manual pages under /usr/share/man/hu...\n",
            "Purging old database entries in /usr/share/man/pt...\n",
            "Processing manual pages under /usr/share/man/pt...\n",
            "Purging old database entries in /usr/share/man/sv...\n",
            "Processing manual pages under /usr/share/man/sv...\n",
            "Purging old database entries in /usr/share/man/pt_BR...\n",
            "Processing manual pages under /usr/share/man/pt_BR...\n",
            "Purging old database entries in /usr/share/man/sr...\n",
            "Processing manual pages under /usr/share/man/sr...\n",
            "Processing manual pages under /usr/local/man...\n",
            "Updating index cache for path `/usr/local/man/man1'. Wait...done.\n",
            "Checking for stray cats under /usr/local/man...\n",
            "Checking for stray cats under /var/cache/man/oldlocal...\n",
            "1 man subdirectory contained newer manual pages.\n",
            "4 manual pages were added.\n",
            "0 stray cats were added.\n",
            "18 old database entries were purged.\n",
            "\n",
            "rclone v1.49.3 has successfully installed.\n",
            "Now run \"rclone config\" for setup. Check https://rclone.org/docs/ for more details.\n",
            "\n"
          ],
          "name": "stdout"
        }
      ]
    },
    {
      "cell_type": "markdown",
      "metadata": {
        "id": "8xC0seIVnj1T",
        "colab_type": "text"
      },
      "source": [
        "**Copy and replace rclone config file**\n",
        "*   Run following code to get the path and run next to replace rclone.conf of Colab with our configuration file.\n",
        "\n"
      ]
    },
    {
      "cell_type": "code",
      "metadata": {
        "id": "WNhBjFxk93ov",
        "colab_type": "code",
        "outputId": "7219f2d4-afef-4ce4-9c07-81ed3e28160e",
        "colab": {
          "base_uri": "https://localhost:8080/",
          "height": 51
        }
      },
      "source": [
        "!rclone config file"
      ],
      "execution_count": 4,
      "outputs": [
        {
          "output_type": "stream",
          "text": [
            "Configuration file doesn't exist, but rclone will use this path:\n",
            "/root/.config/rclone/rclone.conf\n"
          ],
          "name": "stdout"
        }
      ]
    },
    {
      "cell_type": "code",
      "metadata": {
        "id": "OdxdhW8Z1xTs",
        "colab_type": "code",
        "colab": {}
      },
      "source": [
        "!cp /content/drive/My\\ Drive/Config/rclone.conf /root/.config/rclone/"
      ],
      "execution_count": 0,
      "outputs": []
    },
    {
      "cell_type": "markdown",
      "metadata": {
        "id": "u0R4Sb7toT-I",
        "colab_type": "text"
      },
      "source": [
        "**Check wheather it is working properly:**\n",
        "\n",
        "\n",
        "*   This will give list of cloud storage configured in rclone.conf\n"
      ]
    },
    {
      "cell_type": "code",
      "metadata": {
        "id": "nQo659P8A6PC",
        "colab_type": "code",
        "outputId": "01ad44f9-ed58-411e-de31-0a69ccef27f2",
        "colab": {
          "base_uri": "https://localhost:8080/",
          "height": 85
        }
      },
      "source": [
        "!rclone listremotes"
      ],
      "execution_count": 6,
      "outputs": [
        {
          "output_type": "stream",
          "text": [
            "dropbox:\n",
            "gdrive:\n",
            "onedrive:\n",
            "shared_gdrive:\n"
          ],
          "name": "stdout"
        }
      ]
    },
    {
      "cell_type": "code",
      "metadata": {
        "id": "kBDCPTpZmCXF",
        "colab_type": "code",
        "outputId": "9b29376d-95e0-4da5-f78b-e77db6a4a5a4",
        "colab": {
          "base_uri": "https://localhost:8080/",
          "height": 34
        }
      },
      "source": [
        "#List directories in remote:\n",
        "!rclone lsd shared_gdrive:"
      ],
      "execution_count": 13,
      "outputs": [
        {
          "output_type": "stream",
          "text": [
            "          -1 2019-09-26 07:12:29        -1 Collection 1\n"
          ],
          "name": "stdout"
        }
      ]
    },
    {
      "cell_type": "markdown",
      "metadata": {
        "id": "f__n_Kwso0Cb",
        "colab_type": "text"
      },
      "source": [
        "**Run next command to Copy data from one clud to another**\n",
        "\n",
        "\n",
        "*   Replace \"gdrive\" with your source remote name and Shared with path of folder you want to transfer. \n",
        "*   Replace \"onedrive\" with your destination remote name and Backup with path of folder to where you want to transfer.\n",
        "\n",
        "\n",
        "---\n",
        "\n",
        "\n",
        "\n",
        "Flags details:\n",
        "\n",
        "*   --transfers=N : Number of file transfers to run in parallel. \n",
        "*   --checkers=N : Number of checkers to run in parallel, they do the equality checking of files during a sync.\n",
        "*   --stats=5s --stats-one-line --stats-log-level NOTICE : To display stats of progress.\n",
        "*   -v or --verbose : Will tell you about each file that is transferred.\n",
        "\n",
        "Note: Try to change number of transfers and checkers if transfer rate is slow.\n",
        "\n",
        "For more info visit: https://rclone.org/docs/\n",
        "\n",
        "Examples:\n",
        "\n",
        "* `!rclone copy remote1:path/to/folder/or/file remote2:path/to/folder -v`\n",
        "\n",
        "*   `!rclone copy remote1:path/to/folder/or/file remote2:path/to/folder --transfers=32 --checkers=32 --stats=5s --stats-one-line --stats-log-level NOTICE`\n",
        "\n"
      ]
    },
    {
      "cell_type": "code",
      "metadata": {
        "id": "yUaBZ1m3A_dU",
        "colab_type": "code",
        "colab": {}
      },
      "source": [
        "# rclone copy\n",
        "!rclone copy gdrive:Shared onedrive:Backup --transfers=32 --checkers=32 --stats=5s --stats-one-line --stats-log-level NOTICE"
      ],
      "execution_count": 0,
      "outputs": []
    },
    {
      "cell_type": "markdown",
      "metadata": {
        "id": "JMJ4T9hsrvTp",
        "colab_type": "text"
      },
      "source": [
        "**Sync data from one clud to another**\n",
        "\n",
        "\n",
        "\n",
        "`!rclone sync remote1:path remote2:path [flags]`\n",
        "\n",
        "The following command sync entire onedrive to dropbox's backup folder.\n",
        "\n",
        "\n",
        "\n",
        "---\n",
        "\n",
        "\n",
        "\n",
        "**Note: Transfer Speed ∝ Number of files and Size of files.**\n",
        "\n",
        "If you have many small files, speed may be slow -> try increasing trackers and checkers.\n",
        "If you have less number of files but huge in size then -> try reducing them.\n",
        "\n",
        "---\n",
        "\n",
        "You can then use team folders like this remote:/TeamFolder and remote:/TeamFolder/path/to/file.\n"
      ]
    },
    {
      "cell_type": "code",
      "metadata": {
        "id": "3uEWSrgqs1zC",
        "colab_type": "code",
        "colab": {}
      },
      "source": [
        "# rclone sync\n",
        "!rclone sync onedrive: dropbox:Backup --transfers=32 --checkers=32 --stats=5s --stats-one-line --stats-log-level NOTICE"
      ],
      "execution_count": 0,
      "outputs": []
    },
    {
      "cell_type": "markdown",
      "metadata": {
        "id": "O5A5x7d1VSTb",
        "colab_type": "text"
      },
      "source": [
        "**Example to download direct links to cloud storage**"
      ]
    },
    {
      "cell_type": "code",
      "metadata": {
        "id": "l57OoLysVRy5",
        "colab_type": "code",
        "colab": {
          "base_uri": "https://localhost:8080/",
          "height": 136
        },
        "outputId": "0b123e16-6166-438c-fb75-907c2c2cfb86"
      },
      "source": [
        "# rclone copyurl\n",
        "!rclone copyurl 'https://github.com/rclone/rclone/releases/download/v1.49.3/rclone-v1.49.3-solaris-amd64.zip' gdrive:Download -v"
      ],
      "execution_count": 10,
      "outputs": [
        {
          "output_type": "stream",
          "text": [
            "2019/09/26 20:57:41 INFO  : \n",
            "Transferred:   \t   10.323M / 10.323 MBytes, 100%, 4.973 MBytes/s, ETA 0s\n",
            "Errors:                 0\n",
            "Checks:                 0 / 0, -\n",
            "Transferred:            1 / 1, 100%\n",
            "Elapsed time:          2s\n",
            "\n"
          ],
          "name": "stdout"
        }
      ]
    },
    {
      "cell_type": "markdown",
      "metadata": {
        "id": "PPCE_B0AWFve",
        "colab_type": "text"
      },
      "source": [
        "Example to move data from google drive to shared drive"
      ]
    },
    {
      "cell_type": "code",
      "metadata": {
        "id": "mXg425ZoWFDf",
        "colab_type": "code",
        "colab": {
          "base_uri": "https://localhost:8080/",
          "height": 199
        },
        "outputId": "5c630c2a-8129-4d12-e60c-d138eb9ac9a9"
      },
      "source": [
        "#rclone move\n",
        "!rclone move gdrive:Other shared_gdrive:Other --transfers=4 --checkers=8 --stats=5s --stats-one-line --stats-log-level NOTICE"
      ],
      "execution_count": 0,
      "outputs": [
        {
          "output_type": "stream",
          "text": [
            "2019/09/26 21:02:49 NOTICE:       144M / 3.202 GBytes, 4%, 29.883 MBytes/s, ETA 1m44s\n",
            "2019/09/26 21:02:54 NOTICE:       360M / 3.202 GBytes, 11%, 36.664 MBytes/s, ETA 1m19s\n",
            "2019/09/26 21:02:59 NOTICE:       560M / 3.202 GBytes, 17%, 37.790 MBytes/s, ETA 1m11s\n",
            "2019/09/26 21:03:04 NOTICE:       768M / 3.202 GBytes, 23%, 38.751 MBytes/s, ETA 1m4s\n",
            "2019/09/26 21:03:09 NOTICE:       968M / 3.202 GBytes, 30%, 39.003 MBytes/s, ETA 59s\n",
            "2019/09/26 21:03:14 NOTICE:     1.141G / 3.202 GBytes, 36%, 39.170 MBytes/s, ETA 53s\n",
            "2019/09/26 21:03:19 NOTICE:     1.269G / 3.202 GBytes, 40%, 37.307 MBytes/s, ETA 53s\n",
            "2019/09/26 21:03:24 NOTICE:     1.485G / 3.202 GBytes, 46%, 38.180 MBytes/s, ETA 46s\n",
            "2019/09/26 21:03:29 NOTICE:     1.625G / 3.202 GBytes, 51%, 37.127 MBytes/s, ETA 43s\n"
          ],
          "name": "stdout"
        }
      ]
    },
    {
      "cell_type": "markdown",
      "metadata": {
        "id": "cNSLOBEhsDTa",
        "colab_type": "text"
      },
      "source": [
        "**Some useful rclone commands:**\n",
        "\n",
        "* rclone config - Enter an interactive configuration session.\n",
        "* rclone copy - Copy files from source to dest, skipping already copied.\n",
        "* rclone sync - Make source and dest identical, modifying destination only.\n",
        "* rclone move - Move files from source to dest.\n",
        "* rclone delete - Remove the contents of path.\n",
        "* rclone purge - Remove the path and all of its contents.\n",
        "* rclone mkdir - Make the path if it doesn’t already exist.\n",
        "* rclone rmdir - Remove the path.\n",
        "* rclone rmdirs - Remove any empty directories under the path.\n",
        "* rclone check - Check if the files in the source and destination match.\n",
        "* rclone ls - List all the objects in the path with size and path.\n",
        "* rclone lsd - List all directories/containers/buckets in the path.\n",
        "* rclone lsl - List all the objects in the path with size, modification time and path.\n",
        "* rclone about - Get quota information from the remote.\n",
        "\n",
        "For more command info visit: https://rclone.org/docs/"
      ]
    }
  ]
}